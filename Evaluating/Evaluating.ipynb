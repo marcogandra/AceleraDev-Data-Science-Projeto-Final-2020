{
 "cells": [
  {
   "cell_type": "code",
   "execution_count": 14,
   "metadata": {},
   "outputs": [],
   "source": [
    "import pandas as pd\n",
    "import numpy as np\n",
    "import pickle\n",
    "\n",
    "from sklearn.preprocessing import MaxAbsScaler\n",
    "from sklearn.preprocessing import RobustScaler\n",
    "from sklearn.preprocessing import normalize\n",
    "from sklearn.decomposition import NMF\n",
    "from sklearn.model_selection import cross_val_score\n",
    "\n",
    "from sklearn.model_selection import train_test_split"
   ]
  },
  {
   "cell_type": "code",
   "execution_count": 15,
   "metadata": {},
   "outputs": [],
   "source": [
    "csv_path = '../Data/'\n",
    "\n",
    "df = pd.read_csv('../Pré-Processamento/pp_market.csv')\n",
    "port1 = pd.read_csv(f'{csv_path}estaticos_portfolio1.csv', index_col='Unnamed: 0')\n",
    "port2 = pd.read_csv(f'{csv_path}estaticos_portfolio2.csv', index_col='Unnamed: 0')\n",
    "port3 = pd.read_csv(f'{csv_path}estaticos_portfolio3.csv', index_col='Unnamed: 0')\n",
    "\n",
    "ids = df['id']\n",
    "df.drop('id',1,inplace=True)"
   ]
  },
  {
   "cell_type": "code",
   "execution_count": 16,
   "metadata": {},
   "outputs": [],
   "source": [
    "scaler = MaxAbsScaler()\n",
    "\n",
    "df=pd.DataFrame(scaler.fit_transform(df), columns=df.columns)\n",
    "df.index = ids"
   ]
  },
  {
   "cell_type": "markdown",
   "metadata": {},
   "source": [
    "## Train test split"
   ]
  },
  {
   "cell_type": "code",
   "execution_count": 17,
   "metadata": {},
   "outputs": [],
   "source": [
    "port1_train, port1_test = train_test_split(port1, test_size = 0.3, random_state = 42)\n",
    "port2_train, port2_test = train_test_split(port2, test_size = 0.3, random_state = 42)\n",
    "port3_train, port3_test = train_test_split(port3, test_size = 0.3, random_state = 42)"
   ]
  },
  {
   "cell_type": "markdown",
   "metadata": {},
   "source": [
    "### Cos Sim"
   ]
  },
  {
   "cell_type": "code",
   "execution_count": 18,
   "metadata": {},
   "outputs": [
    {
     "name": "stdout",
     "output_type": "stream",
     "text": [
      "Portfólio 1\n",
      "1000: 0.5988023952095809\n",
      "4000: 0.5988023952095809\n",
      "20000: 10.179640718562874\n",
      "40000: 17.365269461077844\n",
      "Portfólio 2\n",
      "1000: 0.5882352941176471\n",
      "4000: 0.5882352941176471\n",
      "20000: 10.0\n",
      "40000: 17.058823529411764\n",
      "Portfólio 3\n",
      "1000: 1.25\n",
      "4000: 1.25\n",
      "20000: 21.25\n",
      "40000: 36.25\n"
     ]
    }
   ],
   "source": [
    "count = 0\n",
    "for treino,teste,label in [(port1_train,port1_test,'Portfólio 1'),(port2_train,port2_test,'Portfólio 2'),(port3_train,port3_test,'Portfólio 3')]:\n",
    "    print(label)\n",
    "    transpose = df.loc[port1_train.id].T\n",
    "    for num in [1000,4000,20000,40000]:\n",
    "        count = 0\n",
    "        rank = df.dot(transpose).mean(axis=1).nlargest(num).index\n",
    "        for i in port1_test.id:\n",
    "            if i in rank:\n",
    "                count = count + 1\n",
    "        print(f'{num}: {count/len(teste)*100}')"
   ]
  },
  {
   "cell_type": "markdown",
   "metadata": {},
   "source": [
    "## NMF"
   ]
  },
  {
   "cell_type": "code",
   "execution_count": 19,
   "metadata": {},
   "outputs": [],
   "source": [
    "def ranking(port, nlargest, df):\n",
    "    port_train = port['id']\n",
    "    transpose = df.loc[port_train.values].T\n",
    "    similarities = df.dot(transpose)\n",
    "    similarities = similarities.mean(axis=1)\n",
    "    return similarities.nlargest(nlargest)"
   ]
  },
  {
   "cell_type": "code",
   "execution_count": 20,
   "metadata": {},
   "outputs": [
    {
     "name": "stdout",
     "output_type": "stream",
     "text": [
      "Wall time: 10min 23s\n"
     ]
    }
   ],
   "source": [
    "%%time\n",
    "nmf = NMF(65)\n",
    "nmf_features = nmf.fit_transform(df)\n",
    "norm_features = normalize(nmf_features)\n",
    "df_nmf = pd.DataFrame(norm_features, ids)"
   ]
  },
  {
   "cell_type": "code",
   "execution_count": 23,
   "metadata": {},
   "outputs": [
    {
     "name": "stdout",
     "output_type": "stream",
     "text": [
      "Portfolio 1:\n",
      "1000: 0.0\n",
      "4000: 0.0\n",
      "20000: 0.059880239520958084\n",
      "40000: 0.10179640718562874\n",
      "Portfolio 2:\n",
      "1000: 0.13529411764705881\n",
      "4000: 0.4235294117647059\n",
      "20000: 0.7529411764705882\n",
      "40000: 0.888235294117647\n",
      "Portfolio 3:\n",
      "1000: 0.4\n",
      "4000: 0.7125\n",
      "20000: 0.9\n",
      "40000: 0.925\n"
     ]
    }
   ],
   "source": [
    "for train,test, label in [(port1_train,port1_test,'Portfolio 1'),\n",
    "                         (port2_train,port2_test,'Portfolio 2'),\n",
    "                         (port3_train,port3_test,'Portfolio 3')]:\n",
    "    print(f'{label}:')\n",
    "    for j in [1000,4000,20000,40000]:\n",
    "        rank = ranking(train, j, df_nmf).index\n",
    "        count = 0\n",
    "        for i in test.id:\n",
    "            if i in rank:\n",
    "                count = count + 1\n",
    "        print(f'{j}: {count/len(test)}')"
   ]
  },
  {
   "cell_type": "markdown",
   "metadata": {},
   "source": [
    "### SVD"
   ]
  },
  {
   "cell_type": "code",
   "execution_count": 24,
   "metadata": {},
   "outputs": [],
   "source": [
    "from sklearn.decomposition import TruncatedSVD\n",
    "def ranking_svd(port, nlargest, df):\n",
    "    port_train = port['id']\n",
    "    transpose = df.loc[port_train.values].T\n",
    "    similarities = df.dot(transpose)\n",
    "    similarities = similarities.mean(axis=1)\n",
    "    return similarities.nlargest(nlargest)"
   ]
  },
  {
   "cell_type": "code",
   "execution_count": 25,
   "metadata": {},
   "outputs": [
    {
     "name": "stdout",
     "output_type": "stream",
     "text": [
      "Wall time: 1min 13s\n"
     ]
    }
   ],
   "source": [
    "%%time\n",
    "svd = TruncatedSVD(65)\n",
    "nmf_features = svd.fit_transform(df)\n",
    "norm_features = normalize(nmf_features)\n",
    "df_svd = pd.DataFrame(norm_features, ids)\n",
    "df_svd.to_csv('../Streamlit/df_svd.csv')"
   ]
  },
  {
   "cell_type": "code",
   "execution_count": 26,
   "metadata": {},
   "outputs": [
    {
     "name": "stdout",
     "output_type": "stream",
     "text": [
      "Portfolio 1:\n",
      "1000: 0.005988023952095809\n",
      "4000: 0.023952095808383235\n",
      "20000: 0.059880239520958084\n",
      "40000: 0.1497005988023952\n",
      "Portfolio 2:\n",
      "1000: 0.09411764705882353\n",
      "4000: 0.3352941176470588\n",
      "20000: 0.7470588235294118\n",
      "40000: 0.8352941176470589\n",
      "Portfolio 3:\n",
      "1000: 0.4375\n",
      "4000: 0.725\n",
      "20000: 0.9375\n",
      "40000: 0.95\n"
     ]
    }
   ],
   "source": [
    "for train,test, label in [(port1_train,port1_test,'Portfolio 1'),\n",
    "                         (port2_train,port2_test,'Portfolio 2'),\n",
    "                         (port3_train,port3_test,'Portfolio 3')]:\n",
    "    print(f'{label}:')\n",
    "    for j in [1000,4000,20000,40000]:\n",
    "        rank = ranking_svd(train,j,df_svd).index\n",
    "        count = 0\n",
    "        for i in test.id:\n",
    "            if i in rank:\n",
    "                count = count + 1\n",
    "        print(f'{j}: {count/len(test)}')"
   ]
  },
  {
   "cell_type": "code",
   "execution_count": null,
   "metadata": {},
   "outputs": [],
   "source": []
  }
 ],
 "metadata": {
  "kernelspec": {
   "display_name": "Python 3",
   "language": "python",
   "name": "python3"
  },
  "language_info": {
   "codemirror_mode": {
    "name": "ipython",
    "version": 3
   },
   "file_extension": ".py",
   "mimetype": "text/x-python",
   "name": "python",
   "nbconvert_exporter": "python",
   "pygments_lexer": "ipython3",
   "version": "3.7.6"
  }
 },
 "nbformat": 4,
 "nbformat_minor": 4
}
